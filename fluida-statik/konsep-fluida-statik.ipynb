{
 "cells": [
  {
   "cell_type": "raw",
   "source": [
    "Pada waktu di sekolah tingkat pertama, telah dikenalkan ada tiga jenis wujud zat,\r\n",
    "yaitu: zat padat, zat cair dan gas. Fluida adalah zat yang dapat mengalir dan\r\n",
    "memberikan sedikit hambatan terhadap perubahan bentuk ketika ditekan. Fluida\r\n",
    "secara umum dibagi menjadi dua macam, yaitu fluida tak bergerak (hidrostatis)\r\n",
    "dan fluida bergerak (hidrodinamis). Pada modul ini kita akan fokus pada\r\n",
    "pembahasan fluida yang tidak bergerak (hidrostatis) atau fluida statis."
   ],
   "metadata": {}
  }
 ],
 "metadata": {
  "orig_nbformat": 4,
  "language_info": {
   "name": "python",
   "version": "3.9.6"
  },
  "kernelspec": {
   "name": "python3",
   "display_name": "Python 3.9.6 64-bit"
  },
  "interpreter": {
   "hash": "fe412fcbda3e2d014582e02cb64e2c7b906865e5fab8fc25a1236b0ab8e7e7f2"
  }
 },
 "nbformat": 4,
 "nbformat_minor": 2
}