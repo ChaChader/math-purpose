{
 "cells": [
  {
   "cell_type": "raw",
   "source": [
    "Hukum Archimedes berbunyi, \"Sebuah benda yang tercelup sebagian atau\r\n",
    "seluruhnya ke dalam fluida akan mengalami gaya ke atas atau gaya apung yang\r\n",
    "besarnya sama dengan berat fluida yang dipindahkannya\"."
   ],
   "metadata": {}
  }
 ],
 "metadata": {
  "orig_nbformat": 4,
  "language_info": {
   "name": "python"
  }
 },
 "nbformat": 4,
 "nbformat_minor": 2
}