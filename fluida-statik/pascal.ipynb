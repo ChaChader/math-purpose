{
 "cells": [
  {
   "cell_type": "raw",
   "source": [
    "Prinsip Pascal mengatakan bahwa tekanan yang diberikan kepada zat cair dalam\r\n",
    "ruang tertutup diteruskan sama besar ke segala arah."
   ],
   "metadata": {}
  }
 ],
 "metadata": {
  "orig_nbformat": 4,
  "language_info": {
   "name": "python"
  }
 },
 "nbformat": 4,
 "nbformat_minor": 2
}